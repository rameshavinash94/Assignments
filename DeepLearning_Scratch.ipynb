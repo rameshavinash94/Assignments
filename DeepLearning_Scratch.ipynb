{
  "nbformat": 4,
  "nbformat_minor": 0,
  "metadata": {
    "colab": {
      "name": "DeepLearning_Scratch.ipynb",
      "provenance": [],
      "authorship_tag": "ABX9TyOfWgD2/XyqeNInjhgv2F9U",
      "include_colab_link": true
    },
    "kernelspec": {
      "name": "python3",
      "display_name": "Python 3"
    },
    "language_info": {
      "name": "python"
    }
  },
  "cells": [
    {
      "cell_type": "markdown",
      "metadata": {
        "id": "view-in-github",
        "colab_type": "text"
      },
      "source": [
        "<a href=\"https://colab.research.google.com/github/rameshavinash94/Assignments/blob/main/DeepLearning_Scratch.ipynb\" target=\"_parent\"><img src=\"https://colab.research.google.com/assets/colab-badge.svg\" alt=\"Open In Colab\"/></a>"
      ]
    },
    {
      "cell_type": "markdown",
      "source": [
        "**Numpy**"
      ],
      "metadata": {
        "id": "BfDL5jE4J9vC"
      }
    },
    {
      "cell_type": "code",
      "source": [
        "import numpy as np"
      ],
      "metadata": {
        "id": "yCS1TNLaQ0dR"
      },
      "execution_count": 1,
      "outputs": []
    },
    {
      "cell_type": "code",
      "source": [
        "class LinearActivation:\n",
        "  def forward(self,inputs):\n",
        "    # Just remember values self.inputs = inputs self.output = inputs (y=f(x))\n",
        "    self.inputs=inputs\n",
        "    self.outputs=self.inputs\n",
        "\n",
        "  def backward(self,dvalues):\n",
        "    self.dinputs=dvalues.copy()"
      ],
      "metadata": {
        "id": "vw4wCddq52WJ"
      },
      "execution_count": 2,
      "outputs": []
    },
    {
      "cell_type": "code",
      "source": [
        "class MSE:\n",
        "  #forward pass\n",
        "  def forward(self,ypred,y):\n",
        "    loss=np.mean((y-ypred)**2,axis=-1)\n",
        "    return loss\n",
        "  \n",
        "  #backward pass\n",
        "  def backward(self,dvalues,ytrue):\n",
        "    #count of data samples\n",
        "    samples=len(dvalues)\n",
        "    outputs=len(dvalues[0])\n",
        "    self.dinputs = (-2 * (ytrue - dvalues)) / outputs\n",
        "    self.dinputs = self.dinputs/samples"
      ],
      "metadata": {
        "id": "F7m1t1GMYs4i"
      },
      "execution_count": 3,
      "outputs": []
    },
    {
      "cell_type": "code",
      "source": [
        "class Relu:\n",
        "  #forward pass\n",
        "  def forward(self,inputs):\n",
        "    self.inputs=inputs\n",
        "    self.output=np.maximum(0,self.inputs)\n",
        "  \n",
        "  #backward pass\n",
        "  def backward(self,dvalues):\n",
        "    self.dinputs = dvalues.copy()\n",
        "    self.dinputs[self.dinputs <= 0 ]=0"
      ],
      "metadata": {
        "id": "P-ys066zIbXH"
      },
      "execution_count": 4,
      "outputs": []
    },
    {
      "cell_type": "code",
      "source": [
        "class NNLayer:\n",
        "  def __init__(self,input_dim,neurons=5,learning_rate=0.005):\n",
        "    self.weights = np.random.randn(input_dim, neurons) * np.sqrt(2. / input_dim)\n",
        "    self.bias = np.zeros(neurons)\n",
        "    self.learning_rate=learning_rate\n",
        "  \n",
        "  def forward(self,X):\n",
        "    self.inputs=X\n",
        "    self.output = np.dot(self.inputs,self.weights) + self.bias\n",
        "  \n",
        "  def backward(self,dvalues):\n",
        "    #parameter gradiants\n",
        "    self.dweights=np.dot(self.inputs.T,dvalues)\n",
        "    self.dbias =np.sum(dvalues, axis = 0 , keepdims= True )\n",
        "    #gradiant on input\n",
        "    self.dinputs =np.dot(dvalues,self.weights.T)\n",
        "\n",
        "    self.weights-= self.learning_rate*self.dweights\n",
        "    self.bias -= self.learning_rate*self.bias\n",
        "    self.inputs -= self.learning_rate*self.inputs"
      ],
      "metadata": {
        "id": "HhTnC4S92jhQ"
      },
      "execution_count": 5,
      "outputs": []
    },
    {
      "cell_type": "code",
      "source": [
        "import numpy as np\n",
        "import matplotlib.pyplot as plot \n",
        "\n",
        "# Get x values of the sine wave\n",
        "time = np.arange(0, 10, 0.1);\n",
        "# Amplitude of the sine wave is sine of a variable like time\n",
        "amplitude   = np.sin(time)"
      ],
      "metadata": {
        "id": "2E39HKI3J39p"
      },
      "execution_count": 6,
      "outputs": []
    },
    {
      "cell_type": "code",
      "source": [
        "# Plot a sine wave using time and amplitude obtained for the sine wave\n",
        "plot.plot(time, amplitude) \n",
        "\n",
        "# Give a title for the sine wave plot\n",
        "plot.title('Sine wave')\n",
        "\n",
        "# Give x axis label for the sine wave plot\n",
        "plot.xlabel('Time')\n",
        "\n",
        "# Give y axis label for the sine wave plot\n",
        "plot.ylabel('Amplitude = sin(time)')\n",
        "plot.grid(True, which='both')\n",
        "plot.axhline(y=0, color='k')\n",
        "plot.show()\n",
        "# Display the sine wave\n",
        "\n",
        "plot.show()"
      ],
      "metadata": {
        "colab": {
          "base_uri": "https://localhost:8080/",
          "height": 295
        },
        "id": "ColiXYnBLA_4",
        "outputId": "3df356de-a130-465a-9410-fbad66e428c6"
      },
      "execution_count": 7,
      "outputs": [
        {
          "output_type": "display_data",
          "data": {
            "image/png": "[encoded data removed]",
            "text/plain": [
              "<Figure size 432x288 with 1 Axes>"
            ]
          },
          "metadata": {
            "needs_background": "light"
          }
        }
      ]
    },
    {
      "cell_type": "code",
      "source": [
        "X,y = time, amplitude"
      ],
      "metadata": {
        "id": "D4gN6-dRLNH1"
      },
      "execution_count": 8,
      "outputs": []
    },
    {
      "cell_type": "code",
      "source": [
        "X=np.array(X)\n",
        "y=np.array(y)"
      ],
      "metadata": {
        "id": "E0Yl9ep_QCSX"
      },
      "execution_count": 9,
      "outputs": []
    },
    {
      "cell_type": "code",
      "source": [
        "# Create Linear layer with 1 input feature and 64 output values\n",
        "dense1 = NNLayer(1,64)\n",
        "\n",
        "#add a relu activator to the layer\n",
        "r_activator = Relu()\n",
        "\n",
        "#create an another layer with 64 input features and 1 output feature\n",
        "dense2 = NNLayer(64,1)\n",
        "\n",
        "#create a linear activator\n",
        "l_activator= LinearActivation()\n",
        "\n",
        "#create loss function\n",
        "loss= MSE()"
      ],
      "metadata": {
        "id": "S2fckqrYLZWQ"
      },
      "execution_count": 10,
      "outputs": []
    },
    {
      "cell_type": "code",
      "source": [
        "#train in loop\n",
        "for epoch in range(10000):\n",
        "  dense1.forward(np.array(X).reshape(100,1))\n",
        "  r_activator.forward(dense1.output)\n",
        "  dense2.forward(r_activator.output)\n",
        "  l_activator.forward(dense2.output)\n",
        "  loss_calculation= loss.forward(l_activator.outputs,np.array(y).reshape(100,1))\n",
        "  loss.backward(l_activator.outputs,np.array(y).reshape(100,1))\n",
        "  l_activator.backward(loss.dinputs)\n",
        "  dense2.backward(l_activator.dinputs)\n",
        "  r_activator.backward(dense2.dinputs)\n",
        "  dense1.backward(r_activator.dinputs)"
      ],
      "metadata": {
        "id": "_ja4GJRPL15K"
      },
      "execution_count": 13,
      "outputs": []
    },
    {
      "cell_type": "code",
      "source": [
        "import matplotlib.pyplot as plt\n",
        "\n",
        "plt.plot(X, y)\n",
        "plt.plot(X,l_activator.outputs)\n",
        "plt.show()"
      ],
      "metadata": {
        "colab": {
          "base_uri": "https://localhost:8080/",
          "height": 265
        },
        "id": "igN840HPU7H6",
        "outputId": "ac66e331-a24c-4129-8c91-904a2d4ea54f"
      },
      "execution_count": 14,
      "outputs": [
        {
          "output_type": "display_data",
          "data": {
            "image/png": "[encoded data removed]",
            "text/plain": [
              "<Figure size 432x288 with 1 Axes>"
            ]
          },
          "metadata": {
            "needs_background": "light"
          }
        }
      ]
    }
  ]
}