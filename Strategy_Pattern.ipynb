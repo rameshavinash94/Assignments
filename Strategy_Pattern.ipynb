{
  "nbformat": 4,
  "nbformat_minor": 0,
  "metadata": {
    "colab": {
      "name": "Strategy_Pattern.ipynb",
      "provenance": [],
      "authorship_tag": "ABX9TyPvvO6BJN/9jaHDv2El3VjE",
      "include_colab_link": true
    },
    "kernelspec": {
      "name": "python3",
      "display_name": "Python 3"
    },
    "language_info": {
      "name": "python"
    }
  },
  "cells": [
    {
      "cell_type": "markdown",
      "metadata": {
        "id": "view-in-github",
        "colab_type": "text"
      },
      "source": [
        "<a href=\"https://colab.research.google.com/github/rameshavinash94/Assignments/blob/main/Strategy_Pattern.ipynb\" target=\"_parent\"><img src=\"https://colab.research.google.com/assets/colab-badge.svg\" alt=\"Open In Colab\"/></a>"
      ]
    },
    {
      "cell_type": "code",
      "execution_count": 21,
      "metadata": {
        "id": "xA_X4-FJf6pn"
      },
      "outputs": [],
      "source": [
        "from abc import ABC, abstractmethod\n",
        "\n",
        "class FileTypeProceesing(ABC):\n",
        "  '''\n",
        "  File Strategy interface class\n",
        "  '''\n",
        "  @abstractmethod\n",
        "  def processfile(self,filename):\n",
        "    pass"
      ]
    },
    {
      "cell_type": "code",
      "source": [
        "class Context:\n",
        "    '''\n",
        "    Context class for the filetype strategy\n",
        "    '''\n",
        "    strategy: FileTypeProceesing  ## the strategy interface\n",
        "\n",
        "    def setStrategy(self, strategy: FileTypeProceesing = None) -> None:\n",
        "        if strategy is not None:\n",
        "            self.strategy = strategy\n",
        "        else:\n",
        "            self.strategy = Default()\n",
        "\n",
        "    def executeStrategy(self,filename):\n",
        "        self.strategy.processfile(filename)"
      ],
      "metadata": {
        "id": "m7CsWy8KlYDn"
      },
      "execution_count": 37,
      "outputs": []
    },
    {
      "cell_type": "code",
      "source": [
        "class DicomFIle(FileTypeProceesing):\n",
        "  '''\n",
        "  class to process dicom files\n",
        "  '''\n",
        "  def processfile(self,filename):\n",
        "    print(\"dicom file processing\")"
      ],
      "metadata": {
        "id": "Qwsmm4iThknv"
      },
      "execution_count": 23,
      "outputs": []
    },
    {
      "cell_type": "code",
      "source": [
        "class JpegFile(FileTypeProceesing):\n",
        "  '''\n",
        "  class to process jpeg files\n",
        "  '''\n",
        "  def processfile(self,filename):\n",
        "    print(\"jpeg file processing\")"
      ],
      "metadata": {
        "id": "j1HpDL12h29z"
      },
      "execution_count": 24,
      "outputs": []
    },
    {
      "cell_type": "code",
      "source": [
        "class HD5(FileTypeProceesing):\n",
        "  '''\n",
        "  class to process hd5 files\n",
        "  '''\n",
        "  def processfile(self,filename):\n",
        "    print(\"hd5 file processing\")"
      ],
      "metadata": {
        "id": "NHnwRMQMh5Bc"
      },
      "execution_count": 25,
      "outputs": []
    },
    {
      "cell_type": "code",
      "source": [
        "class Default(FileTypeProceesing):\n",
        "    def processfile(self,filename):\n",
        "       print(\"Dicom file processing\")"
      ],
      "metadata": {
        "id": "GZFSaB4ajRyb"
      },
      "execution_count": 26,
      "outputs": []
    },
    {
      "cell_type": "code",
      "source": [
        "appA = Context()\n",
        "appB = Context()\n",
        "appC = Context()"
      ],
      "metadata": {
        "id": "3yHjSBZumKHK"
      },
      "execution_count": 27,
      "outputs": []
    },
    {
      "cell_type": "code",
      "source": [
        "appA.setStrategy(DicomFIle())\n",
        "appB.setStrategy(JpegFile())\n",
        "appC.setStrategy()"
      ],
      "metadata": {
        "id": "LNG6rjRnmQHf"
      },
      "execution_count": 38,
      "outputs": []
    },
    {
      "cell_type": "code",
      "source": [
        "appA.executeStrategy(\"test1\")\n",
        "appB.executeStrategy(\"test1\")\n",
        "appC.executeStrategy(\"test1\")"
      ],
      "metadata": {
        "colab": {
          "base_uri": "https://localhost:8080/"
        },
        "id": "jXRTNJkVmY5W",
        "outputId": "de90ea09-4103-4eae-faae-5def6a34ea3b"
      },
      "execution_count": 39,
      "outputs": [
        {
          "output_type": "stream",
          "name": "stdout",
          "text": [
            "dicom file processing\n",
            "jpeg file processing\n",
            "Dicom file processing\n"
          ]
        }
      ]
    }
  ]
}